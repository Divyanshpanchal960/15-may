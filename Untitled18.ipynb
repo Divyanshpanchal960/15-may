{
  "nbformat": 4,
  "nbformat_minor": 0,
  "metadata": {
    "colab": {
      "provenance": [],
      "authorship_tag": "ABX9TyNNY9eZ6sVHv12qj43u4S5I",
      "include_colab_link": true
    },
    "kernelspec": {
      "name": "python3",
      "display_name": "Python 3"
    },
    "language_info": {
      "name": "python"
    }
  },
  "cells": [
    {
      "cell_type": "markdown",
      "metadata": {
        "id": "view-in-github",
        "colab_type": "text"
      },
      "source": [
        "<a href=\"https://colab.research.google.com/github/Divyanshpanchal960/15-may/blob/main/Untitled18.ipynb\" target=\"_parent\"><img src=\"https://colab.research.google.com/assets/colab-badge.svg\" alt=\"Open In Colab\"/></a>"
      ]
    },
    {
      "cell_type": "code",
      "execution_count": 65,
      "metadata": {
        "colab": {
          "base_uri": "https://localhost:8080/"
        },
        "id": "Sujy7-7Jf76q",
        "outputId": "e843864f-8a04-4cb5-ed59-bb9a57e11d5d"
      },
      "outputs": [
        {
          "output_type": "stream",
          "name": "stdout",
          "text": [
            "2025\n",
            "black\n",
            "diesel\n",
            "manuel\n",
            "alloyes\n",
            "Blue\n",
            "2024\n",
            "petrol\n",
            "Automatic\n",
            "broomommmm\n",
            "tap the gear\n",
            "lets go for a ride\n",
            "stop the car\n",
            "open the door\n",
            "engine off\n",
            "park your Thar\n",
            "Blue\n",
            "black\n",
            "black\n",
            "white/black\n",
            "diesel\n",
            "manuel\n",
            "2025\n",
            "alloyes\n",
            "broomommmm\n",
            "tap the gear\n",
            "lets go for a ride\n",
            "stop the car\n",
            "park your Thar\n",
            "engine off\n"
          ]
        }
      ],
      "source": [
        "class Mahindra:\n",
        "    model=2025\n",
        "    color=\"black\"\n",
        "    fuel_type=\"diesel\"\n",
        "    Transmission=\"manuel\"\n",
        "    Wheels_type=\"alloyes\"\n",
        "\n",
        "    def start(self):\n",
        "      print(\"broomommmm\")\n",
        "    def door(self):\n",
        "      print(\"open the door\")\n",
        "    def gear(self):\n",
        "      print(\"tap the gear\")\n",
        "    def go(self):\n",
        "      print(\"lets go for a ride\")\n",
        "    def press_break(self):\n",
        "      print(\"stop the car\")\n",
        "    def shift_park(self):\n",
        "      print(\"park your Thar\")\n",
        "    def off(self):\n",
        "      print(\"engine off\")\n",
        "\n",
        "\n",
        "Thar=Mahindra()\n",
        "print(Thar.model)\n",
        "print(Thar.color)\n",
        "print(Thar.fuel_type)\n",
        "print(Thar.Transmission)\n",
        "print(Thar.Wheels_type)\n",
        "Thar.color=\"Blue\"\n",
        "print(Thar.color)\n",
        "Thar.model=\"2024\"\n",
        "print(Thar.model)\n",
        "Thar.fuel_type=\"petrol\"\n",
        "print(Thar.fuel_type)\n",
        "Thar.Transmission=\"Automatic\"\n",
        "print(Thar.Transmission)\n",
        "Thar.Wheels_type=\"Normal tyres\"\n",
        "Thar.start()\n",
        "Thar.gear()\n",
        "Thar.go()\n",
        "Thar.press_break()\n",
        "Thar.door()\n",
        "Thar.off()\n",
        "Thar.shift_park()\n",
        "print(Thar.color)\n",
        "Thar.color=\"black\"\n",
        "print(Thar.color)\n",
        "XUV700=Mahindra()\n",
        "print(XUV700.color)\n",
        "XUV700.color=\"white/black\"\n",
        "print(XUV700.color)\n",
        "print(XUV700.fuel_type)\n",
        "print(XUV700.Transmission)\n",
        "print(XUV700.model)\n",
        "print(XUV700.Wheels_type)\n",
        "XUV700.start()\n",
        "XUV700.gear()\n",
        "XUV700.go()\n",
        "XUV700.press_break()\n",
        "XUV700.shift_park()\n",
        "XUV700.off()"
      ]
    },
    {
      "cell_type": "code",
      "source": [
        "class SBI:\n",
        "  def __init__(self, ac_holder_name, ac_number,current_balance, address,branch,ac_type):\n",
        "      self.ac_holder_name =ac_holder_name\n",
        "      self.ac_number = ac_number\n",
        "      self.current_balance=current_balance\n",
        "      self.address = address\n",
        "      self.branch = branch\n",
        "      self.ac_type = ac_type\n",
        "  def display(self):\n",
        "      print(f\"ac_holder_name:=\",{self.ac_holder_name})\n",
        "      print(f\"ac_number:=\",{self.ac_number})\n",
        "      print(f\"current_balance:=\",{self.current_balance})\n",
        "      print(f\"self.ac_type:=\",{self.ac_type})\n",
        "      print(f\"self.address:=\",{self.address})\n",
        "      print(f\"self.branch:=\",{self.branch})\n",
        "  def deposite(self,deposite):\n",
        "    if deposite>0:\n",
        "      self.current_balance+=deposite\n",
        "      print(f\"your paymnet successfully deposited:=\",{deposite})\n",
        "    else:\n",
        "      print(\"enter valid deposite amount\")\n",
        "      return self.current_balance\n",
        "  def withdraw(self,withdraw):\n",
        "    if withdraw>0 and self.current_balance>=withdraw:\n",
        "      self.current_balance-=withdraw\n",
        "      print(f\"your amount successfully withdraw from your account:=\",{withdraw})\n",
        "    else:\n",
        "      print(\"enter your valid withdraw amount\")\n",
        "      return self.current_balance\n",
        "dev=SBI(\"Divyansh Panchal\",398563256898,100000000,'Banswara',\"mohan colony\",\"saving_account\")\n",
        "dev.display()\n",
        "print(dev.current_balance)\n",
        "dev.withdraw(400000)\n",
        "print(dev.current_balance)\n",
        "dev.deposite(400000)\n",
        "print(dev.current_balance)\n",
        "\n",
        "\n",
        "\n",
        "\n"
      ],
      "metadata": {
        "colab": {
          "base_uri": "https://localhost:8080/"
        },
        "id": "486owpA-qUz4",
        "outputId": "3c7d122f-78fd-4082-cc2d-787b3cf1c6cf"
      },
      "execution_count": 95,
      "outputs": [
        {
          "output_type": "stream",
          "name": "stdout",
          "text": [
            "ac_holder_name:= {'Divyansh Panchal'}\n",
            "ac_number:= {398563256898}\n",
            "current_balance:= {100000000}\n",
            "self.ac_type:= {'saving_account'}\n",
            "self.address:= {'Banswara'}\n",
            "self.branch:= {'mohan colony'}\n",
            "100000000\n",
            "your amount successfully withdraw from your account:= {400000}\n",
            "99600000\n",
            "your paymnet successfully deposited:= {400000}\n",
            "100000000\n"
          ]
        }
      ]
    }
  ]
}